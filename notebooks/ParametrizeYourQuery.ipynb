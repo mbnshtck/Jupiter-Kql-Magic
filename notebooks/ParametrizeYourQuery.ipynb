{
 "cells": [
  {
   "cell_type": "markdown",
   "metadata": {},
   "source": [
    " # Kqlmagic  - __parametrization__ features\n",
    "***\n",
    "Explains how to emebed python values in kql queries\n",
    "***\n",
    "***\n",
    "\n"
   ]
  },
  {
   "cell_type": "markdown",
   "metadata": {},
   "source": [
    "## Make sure that you have the lastest version of  Kqlmagic\n",
    "Download Kqlmagic from github and install/update\n",
    "(if latest version ims already installed you can skip this step)"
   ]
  },
  {
   "cell_type": "code",
   "execution_count": null,
   "metadata": {},
   "outputs": [],
   "source": [
    "#!pip install Kqlmagic --upgrade"
   ]
  },
  {
   "cell_type": "markdown",
   "metadata": {},
   "source": [
    "## Add Kqlmagic to notebook magics"
   ]
  },
  {
   "cell_type": "code",
   "execution_count": null,
   "metadata": {},
   "outputs": [],
   "source": [
    "#%pushd C:\\My Projects\\jupyter-Kqlmagic-microsoft\\azure\n",
    "%reload_ext Kqlmagic\n",
    "#%popd"
   ]
  },
  {
   "cell_type": "markdown",
   "metadata": {},
   "source": [
    "## Authenticate to get access to data"
   ]
  },
  {
   "cell_type": "code",
   "execution_count": null,
   "metadata": {},
   "outputs": [],
   "source": [
    "%kql kusto://code().cluster('help').database('Samples')"
   ]
  },
  {
   "cell_type": "markdown",
   "metadata": {},
   "source": [
    "## Use python user namespace as source of parameters\n",
    "- prefix query with kql let statements to parametrize the query"
   ]
  },
  {
   "cell_type": "code",
   "execution_count": null,
   "metadata": {},
   "outputs": [],
   "source": [
    "my_limit = 10\n",
    "my_not_state = 'TEXAS'"
   ]
  },
  {
   "cell_type": "code",
   "execution_count": null,
   "metadata": {},
   "outputs": [],
   "source": [
    "%%kql \n",
    "    let _limit_ = my_limit;\n",
    "    let _not_val_ = my_not_state;\n",
    "    StormEvents\n",
    "    | where State != _not_val_\n",
    "    | summarize count() by State\n",
    "    | sort by count_ \n",
    "    | limit _limit_"
   ]
  },
  {
   "cell_type": "markdown",
   "metadata": {},
   "source": [
    "  - ### <span style=\"color:#82CAFA\">*Note - all parameters have to be specified in the let statements*</span>\n",
    "  - ### <span style=\"color:#82CAFA\">*Note - the following parameter python types are supported: int, float, str, datetime, timedelta, dict, list and tuple*</span>\n",
    "  - ### <span style=\"color:#82CAFA\">*Note - python type timedelta is converted to timespan*</span>\n",
    "  - ### <span style=\"color:#82CAFA\">*Note - python type dict, list and tuple are converted to dynamic*</span>\n",
    "  - ### <span style=\"color:#82CAFA\">*Note - python value None is converted to null*</span>"
   ]
  },
  {
   "cell_type": "markdown",
   "metadata": {},
   "source": [
    "## Use python dictionary as source of parameters\n",
    "- set option -params_dict with the name of a python variable that refer to the dictionary\n",
    "- prefix query with kql let statements to parametrize the query"
   ]
  },
  {
   "cell_type": "code",
   "execution_count": null,
   "metadata": {},
   "outputs": [],
   "source": [
    "p_dict = {'p_limit': 20, 'p_not_state': 'IOWA'}"
   ]
  },
  {
   "cell_type": "code",
   "execution_count": null,
   "metadata": {},
   "outputs": [],
   "source": [
    "%%kql  -params_dict p_dict \n",
    "    let _limit_ = p_limit;\n",
    "    let _not_val_ = p_not_state;\n",
    "    StormEvents \n",
    "    | where State != _not_val_\n",
    "    | summarize count() by State\n",
    "    | sort by count_ \n",
    "    | limit _limit_"
   ]
  },
  {
   "cell_type": "markdown",
   "metadata": {},
   "source": [
    "## get query string\n",
    "- shows the original query, as in the input cell"
   ]
  },
  {
   "cell_type": "code",
   "execution_count": null,
   "metadata": {},
   "outputs": [],
   "source": [
    "_kql_raw_result_.query"
   ]
  },
  {
   "cell_type": "markdown",
   "metadata": {},
   "source": [
    "## get parametrized query string\n",
    "- shows the parametrized query, that was submited to kusto"
   ]
  },
  {
   "cell_type": "code",
   "execution_count": null,
   "metadata": {},
   "outputs": [],
   "source": [
    "_kql_raw_result_.parametrized_query"
   ]
  },
  {
   "cell_type": "markdown",
   "metadata": {},
   "source": [
    "  - ### <span style=\"color:#82CAFA\">*Note - additional let statements were added to the original query, one let statement for each parameter*</span>"
   ]
  },
  {
   "cell_type": "markdown",
   "metadata": {},
   "source": [
    "## parameters dictionary is modified"
   ]
  },
  {
   "cell_type": "code",
   "execution_count": null,
   "metadata": {},
   "outputs": [],
   "source": [
    "p_dict = {'p_limit': 5, 'p_not_state': 'IOWA'}"
   ]
  },
  {
   "cell_type": "markdown",
   "metadata": {},
   "source": [
    "## refresh use original parameters\n",
    "- the same parameter values are used"
   ]
  },
  {
   "cell_type": "code",
   "execution_count": null,
   "metadata": {},
   "outputs": [],
   "source": [
    "_kql_raw_result_.refresh()"
   ]
  },
  {
   "cell_type": "markdown",
   "metadata": {},
   "source": [
    "  - ### <span style=\"color:#82CAFA\">*Note - the refresh method use the original parameter values, as they were set*</span>"
   ]
  },
  {
   "cell_type": "markdown",
   "metadata": {},
   "source": [
    "## submit use the current python values as parameters\n",
    "- a new query is created and parametrized with the current python values"
   ]
  },
  {
   "cell_type": "code",
   "execution_count": null,
   "metadata": {},
   "outputs": [],
   "source": [
    "_kql_raw_result_.submit()"
   ]
  },
  {
   "cell_type": "markdown",
   "metadata": {},
   "source": [
    "  - ### <span style=\"color:#82CAFA\">*Note - the submit method cretes a new query and parametrize with the current parameter values*</span>"
   ]
  },
  {
   "cell_type": "code",
   "execution_count": null,
   "metadata": {},
   "outputs": [],
   "source": []
  }
 ],
 "metadata": {
  "kernelspec": {
   "display_name": "Python 3",
   "language": "python",
   "name": "python3"
  },
  "language_info": {
   "codemirror_mode": {
    "name": "ipython",
    "version": 3
   },
   "file_extension": ".py",
   "mimetype": "text/x-python",
   "name": "python",
   "nbconvert_exporter": "python",
   "pygments_lexer": "ipython3",
   "version": "3.6.1"
  }
 },
 "nbformat": 4,
 "nbformat_minor": 2
}
